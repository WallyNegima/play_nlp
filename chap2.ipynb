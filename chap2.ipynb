{
 "cells": [
  {
   "cell_type": "code",
   "execution_count": 14,
   "metadata": {},
   "outputs": [
    {
     "name": "stdout",
     "output_type": "stream",
     "text": [
      "[title]:  日本\n",
      "[text]:   日本<__EOS__>\n",
      "日本国（にほんこく、にっぽんこく、英: Japan）、または日本（にほん、にっぽん）は、東アジアに位置し、日本列島[注 2]および南西諸島・伊豆諸島・小笠原諸島などからなる民主制国家[1][2]。首都は東京都[3]。\n",
      "気候は四季の変化に富み、国土の多くは山地で、人口は沿岸の平野部に集中している。国内には行政区分として47の都道府県があり、大和民族・琉球民族・アイヌ民族・外国人系の人々などが居住し、事実上の公用語として日本語が使用される[4]。\n",
      "内政においては、明治維新後の1889年に大日本帝国憲法を制定し立憲国家となった。その後、第二次世界大戦後の1947年には現行の日\n"
     ]
    }
   ],
   "source": [
    "import urllib.request\n",
    "import cchardet\n",
    "import scrape\n",
    "\n",
    "\n",
    "url = 'https://ja.wikipedia.org/wiki/%E6%97%A5%E6%9C%AC'\n",
    "with urllib.request.urlopen(url) as res:\n",
    "    byte = res.read()\n",
    "    html = byte.decode(cchardet.detect(byte)['encoding'])\n",
    "    text, title = scrape.scrape(html)\n",
    "    print('[title]: ', title)\n",
    "    print('[text]:  ', text[:300])"
   ]
  },
  {
   "cell_type": "code",
   "execution_count": null,
   "metadata": {},
   "outputs": [],
   "source": []
  }
 ],
 "metadata": {
  "kernelspec": {
   "display_name": "Python 3",
   "language": "python",
   "name": "python3"
  },
  "language_info": {
   "codemirror_mode": {
    "name": "ipython",
    "version": 3
   },
   "file_extension": ".py",
   "mimetype": "text/x-python",
   "name": "python",
   "nbconvert_exporter": "python",
   "pygments_lexer": "ipython3",
   "version": "3.7.2"
  }
 },
 "nbformat": 4,
 "nbformat_minor": 4
}
