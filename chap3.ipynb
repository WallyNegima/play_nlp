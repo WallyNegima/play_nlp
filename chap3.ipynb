{
 "cells": [
  {
   "cell_type": "code",
   "execution_count": 1,
   "metadata": {},
   "outputs": [],
   "source": [
    "import sqlitedatastore as datastore\n",
    "\n",
    "datastore.connect()\n",
    "# datastore.create_table()\n",
    "datastore.close()"
   ]
  },
  {
   "cell_type": "code",
   "execution_count": 2,
   "metadata": {},
   "outputs": [
    {
     "name": "stdout",
     "output_type": "stream",
     "text": [
      "scraped: フィジー\n",
      "scraped: ブラジル\n",
      "scraped: 日本\n",
      "scraped: ツバル\n",
      "scraped: カメルーン\n",
      "scraped: アメリカ合衆国\n",
      "scraped: モーリシャス\n",
      "scraped: ジンバブエ\n",
      "scraped: セントクリストファー・ネイビス\n",
      "scraped: イギリス\n",
      "scraped: インド\n",
      "scraped: フランス\n",
      "[1, 2, 3, 4, 5, 6, 7, 8, 9, 10, 11, 12]\n"
     ]
    }
   ],
   "source": [
    "import glob\n",
    "import json\n",
    "import urllib.parse\n",
    "\n",
    "import scrape\n",
    "import sqlitedatastore as datastore\n",
    "\n",
    "datastore.connect()\n",
    "values = []\n",
    "for filename in glob.glob('./data/wikipedia/*.html'):\n",
    "    with open(filename) as fin:\n",
    "        html = fin.read()\n",
    "        text, title = scrape.scrape(html)\n",
    "        print('scraped:', title)\n",
    "        url = 'https://ja.wikipedia.org/wiki/{0}'.format(\n",
    "            urllib.parse.quote(title))\n",
    "        values.append((text, json.dumps({'url': url, 'title': title})))\n",
    "datastore.load(values)\n",
    "\n",
    "print(list(datastore.get_all_ids(limit=-1)))\n",
    "datastore.close()"
   ]
  },
  {
   "cell_type": "code",
   "execution_count": 4,
   "metadata": {},
   "outputs": [
    {
     "name": "stdout",
     "output_type": "stream",
     "text": [
      "1 {'url': 'https://ja.wikipedia.org/wiki/%E3%83%95%E3%82%A3%E3%82%B8%E3%83%BC', 'title': 'フィジー'} フィジー<__EOS__>\n",
      "フィジー共和国（フィジーきょうわこく）、通称フィジーは、オセアニアの国家で、イギリス連邦加盟国である。首都はビティレブ島のスバ。南太平洋のフィジー諸島と北に500km程離れ\n",
      "2 {'url': 'https://ja.wikipedia.org/wiki/%E3%83%96%E3%83%A9%E3%82%B8%E3%83%AB', 'title': 'ブラジル'} ブラジル<__EOS__>\n",
      "ブラジル手話語 <__EOS__>\n",
      "ブラジル連邦共和国（ブラジルれんぽうきょうわこく、ポルトガル語: República Federativa do Brasil）、通称ブ\n",
      "3 {'url': 'https://ja.wikipedia.org/wiki/%E6%97%A5%E6%9C%AC', 'title': '日本'} 日本<__EOS__>\n",
      "日本国（にほんこく、にっぽんこく、英: Japan）、または日本（にほん、にっぽん）は、東アジアに位置し、日本列島[注 2]および南西諸島・伊豆諸島・小笠原諸島などからなる民主\n",
      "4 {'url': 'https://ja.wikipedia.org/wiki/%E3%83%84%E3%83%90%E3%83%AB', 'title': 'ツバル'} ツバル<__EOS__>\n",
      "座標: 南緯8度31分0秒 東経179度12分0秒﻿ / ﻿南緯8.51667度 東経179.20000度﻿ / -8.51667; 179.20000 <__EOS__>\n",
      "\n",
      "5 {'url': 'https://ja.wikipedia.org/wiki/%E3%82%AB%E3%83%A1%E3%83%AB%E3%83%BC%E3%83%B3', 'title': 'カメルーン'} カメルーン<__EOS__>\n",
      "カメルーン共和国（カメルーンきょうわこく）、通称カメルーンは、中部アフリカに位置する共和制国家。西にナイジェリア、北東にチャド、東に中央アフリカ共和国、南東にコンゴ共和国\n",
      "6 {'url': 'https://ja.wikipedia.org/wiki/%E3%82%A2%E3%83%A1%E3%83%AA%E3%82%AB%E5%90%88%E8%A1%86%E5%9B%BD', 'title': 'アメリカ合衆国'} アメリカ合衆国<__EOS__>\n",
      "アメリカ合衆国（アメリカがっしゅうこく、英: United States of America, USA）、通称アメリカは、50の州および連邦区などからなる連邦共和制\n",
      "7 {'url': 'https://ja.wikipedia.org/wiki/%E3%83%A2%E3%83%BC%E3%83%AA%E3%82%B7%E3%83%A3%E3%82%B9', 'title': 'モーリシャス'} モーリシャス<__EOS__>\n",
      "モーリシャス共和国（モーリシャスきょうわこく）、通称モーリシャスは、イギリス連邦加盟国の1つで、首都はポートルイスと定められている。インド洋のマスカレン諸島に位置する共\n",
      "8 {'url': 'https://ja.wikipedia.org/wiki/%E3%82%B8%E3%83%B3%E3%83%90%E3%83%96%E3%82%A8', 'title': 'ジンバブエ'} ジンバブエ<__EOS__>\n",
      "ジンバブエ共和国（ジンバブエきょうわこく、英: Republic of Zimbabwe）、通称ジンバブエは、アフリカ大陸の南部に位置する共和制国家。首都はハラレ。\n",
      "内陸\n",
      "9 {'url': 'https://ja.wikipedia.org/wiki/%E3%82%BB%E3%83%B3%E3%83%88%E3%82%AF%E3%83%AA%E3%82%B9%E3%83%88%E3%83%95%E3%82%A1%E3%83%BC%E3%83%BB%E3%83%8D%E3%82%A4%E3%83%93%E3%82%B9', 'title': 'セントクリストファー・ネイビス'} セントクリストファー・ネイビス<__EOS__>\n",
      "セントクリストファー・ネイビス連邦（セントクリストファー・ネイビスれんぽう）、またはセントキッツ・ネイビス連邦は、西インド諸島の小アンティル諸島内のリ\n",
      "10 {'url': 'https://ja.wikipedia.org/wiki/%E3%82%A4%E3%82%AE%E3%83%AA%E3%82%B9', 'title': 'イギリス'} イギリス<__EOS__>\n",
      "グレートブリテン及び北アイルランド連合王国（グレートブリテンおよびきたアイルランドれんごうおうこく、英: United Kingdom of Great Britain a\n",
      "11 {'url': 'https://ja.wikipedia.org/wiki/%E3%82%A4%E3%83%B3%E3%83%89', 'title': 'インド'} インド<__EOS__>\n",
      "インド（ヒンディー語: भारत गणराज्य、英語: Republic of India）、またはインド共和国（インドきょうわこく）[注 2]は、南アジアに位置し、インド\n",
      "12 {'url': 'https://ja.wikipedia.org/wiki/%E3%83%95%E3%83%A9%E3%83%B3%E3%82%B9', 'title': 'フランス'} フランス<__EOS__>\n",
      "この表のデータは本土のみで、海外県・属領を含まない。\n",
      "フランス共和国（フランスきょうわこく、仏: République française）、通称フランスは、西ヨーロッパの\n"
     ]
    }
   ],
   "source": [
    "import json\n",
    "\n",
    "datastore.connect()\n",
    "for doc_id in datastore.get_all_ids(limit=-1):\n",
    "    row = datastore.get(doc_id, ['id', 'content', 'meta_info'])\n",
    "    print(row['id'], json.loads(row['meta_info']), row['content'][:100])\n",
    "datastore.close()\n"
   ]
  },
  {
   "cell_type": "code",
   "execution_count": 5,
   "metadata": {},
   "outputs": [
    {
     "name": "stdout",
     "output_type": "stream",
     "text": [
      "{\n",
      "  \"responseHeader\":{\n",
      "    \"status\":0,\n",
      "    \"QTime\":1133}}\n",
      "\n",
      "{\n",
      "  \"responseHeader\":{\n",
      "    \"status\":0,\n",
      "    \"QTime\":246}}\n",
      "\n"
     ]
    }
   ],
   "source": [
    "import sqlitedatastore as datastore\n",
    "import solrindexer     as indexer\n",
    "\n",
    "\n",
    "datastore.connect()\n",
    "data = []\n",
    "for doc_id in datastore.get_all_ids(limit=-1):\n",
    "    row = datastore.get(doc_id, ['id', 'content', 'meta_info'])\n",
    "    # Solr へ登録するデータ構造へ変換\n",
    "    meta_info = json.loads(row['meta_info'])\n",
    "    data.append({\n",
    "        'id':               str(row['id']),\n",
    "        'doc_id_i':         row['id'],\n",
    "        'content_txt_ja':   row['content'],\n",
    "        'title_txt_ja':     meta_info['title'],\n",
    "        'url_s':            meta_info['url'],\n",
    "    })\n",
    "# Solr への登録を実行\n",
    "indexer.load('doc', data)\n",
    "datastore.close()"
   ]
  },
  {
   "cell_type": "code",
   "execution_count": null,
   "metadata": {},
   "outputs": [],
   "source": []
  },
  {
   "cell_type": "code",
   "execution_count": null,
   "metadata": {},
   "outputs": [],
   "source": []
  }
 ],
 "metadata": {
  "kernelspec": {
   "display_name": "Python 3",
   "language": "python",
   "name": "python3"
  },
  "language_info": {
   "codemirror_mode": {
    "name": "ipython",
    "version": 3
   },
   "file_extension": ".py",
   "mimetype": "text/x-python",
   "name": "python",
   "nbconvert_exporter": "python",
   "pygments_lexer": "ipython3",
   "version": "3.7.2"
  }
 },
 "nbformat": 4,
 "nbformat_minor": 4
}
