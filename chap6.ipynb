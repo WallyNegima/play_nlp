{
 "cells": [
  {
   "cell_type": "code",
   "execution_count": 1,
   "metadata": {},
   "outputs": [],
   "source": [
    "import sqlitedatastore as datastore\n",
    "\n",
    "\n",
    "datastore.connect()\n",
    "anno_name = 'affiliation'\n",
    "for doc_id in datastore.get_all_ids(limit=-1):\n",
    "    text = datastore.get(doc_id, fl=['content'])['content']\n",
    "    with open('result/brat/{0}.txt'.format(doc_id), 'w') as f:\n",
    "        f.write(text)\n",
    "    with open('result/brat/{0}.ann'.format(doc_id), 'w') as f:\n",
    "        for i, anno in enumerate(datastore.get_annotation(doc_id, anno_name)):\n",
    "            f.write('T{0}\\t{1} {2} {3}\\t{4}\\n'.format(\n",
    "                i,\n",
    "                'affiliation',\n",
    "                anno['begin'],\n",
    "                anno['end'],\n",
    "                text[anno['begin']:anno['end']]\n",
    "            ))\n",
    "datastore.close()\n"
   ]
  },
  {
   "cell_type": "code",
   "execution_count": null,
   "metadata": {},
   "outputs": [],
   "source": []
  }
 ],
 "metadata": {
  "kernelspec": {
   "display_name": "Python 3",
   "language": "python",
   "name": "python3"
  },
  "language_info": {
   "codemirror_mode": {
    "name": "ipython",
    "version": 3
   },
   "file_extension": ".py",
   "mimetype": "text/x-python",
   "name": "python",
   "nbconvert_exporter": "python",
   "pygments_lexer": "ipython3",
   "version": "3.7.2"
  }
 },
 "nbformat": 4,
 "nbformat_minor": 4
}
